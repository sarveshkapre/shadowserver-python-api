{
 "cells": [
  {
   "cell_type": "code",
   "execution_count": null,
   "id": "9c3a0471",
   "metadata": {},
   "outputs": [],
   "source": [
    "from shadowserver.report_api import ShadowserverReportAPI\n",
    "from shadowserver.asn_api import ShadowserverASNAPI\n",
    "from shadowserver.ssl_api import ShadowserverSSLAPI"
   ]
  },
  {
   "cell_type": "code",
   "execution_count": null,
   "id": "c9077645",
   "metadata": {},
   "outputs": [],
   "source": [
    "auth = ShadowserverAuth(api_key, secret_key)\n",
    "report_api = ShadowserverReportAPI(api_uri, auth)\n",
    "report_types = report_api.types()\n",
    "print(report_types)"
   ]
  },
  {
   "cell_type": "code",
   "execution_count": null,
   "id": "22576159",
   "metadata": {},
   "outputs": [],
   "source": []
  }
 ],
 "metadata": {
  "kernelspec": {
   "display_name": "Python 3 (ipykernel)",
   "language": "python",
   "name": "python3"
  },
  "language_info": {
   "codemirror_mode": {
    "name": "ipython",
    "version": 3
   },
   "file_extension": ".py",
   "mimetype": "text/x-python",
   "name": "python",
   "nbconvert_exporter": "python",
   "pygments_lexer": "ipython3",
   "version": "3.9.6"
  }
 },
 "nbformat": 4,
 "nbformat_minor": 5
}
