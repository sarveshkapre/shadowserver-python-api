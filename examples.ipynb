{
 "cells": [
  {
   "cell_type": "code",
   "execution_count": null,
   "id": "9c3a0471",
   "metadata": {},
   "outputs": [],
   "source": [
    "from shadowserver.auth import ShadowserverAuth\n",
    "from shadowserver.report_api import ShadowserverReportAPI\n",
    "from shadowserver.asn_api import ShadowserverASNAPI\n",
    "from shadowserver.ssl_api import ShadowserverSSLAPI"
   ]
  },
  {
   "cell_type": "code",
   "execution_count": null,
   "id": "124c542d",
   "metadata": {},
   "outputs": [],
   "source": [
    "SHADOWSERVER_API_KEY=\"SHADOWSERVER_API_KEY\"\n",
    "SHADOWSERVER_SECRET=\"SHADOWSERVER_SECRET\"\n",
    "SHADOWSERVER_URI=\"https://transform.shadowserver.org/api2/\""
   ]
  },
  {
   "cell_type": "code",
   "execution_count": null,
   "id": "c9077645",
   "metadata": {},
   "outputs": [],
   "source": [
    "auth = ShadowserverAuth(key=SHADOWSERVER_API_KEY, secret=SHADOWSERVER_SECRET)"
   ]
  },
  {
   "cell_type": "code",
   "execution_count": null,
   "id": "22576159",
   "metadata": {},
   "outputs": [],
   "source": [
    "report_api = ShadowserverReportAPI(uri=SHADOWSERVER_URI, auth=auth)"
   ]
  },
  {
   "cell_type": "code",
   "execution_count": null,
   "id": "64c64a8d",
   "metadata": {},
   "outputs": [],
   "source": [
    "report_types = report_api.types()\n",
    "print(report_types)"
   ]
  },
  {
   "cell_type": "code",
   "execution_count": null,
   "id": "933be1ab",
   "metadata": {},
   "outputs": [],
   "source": [
    "subscribed = report_api.subscribed()\n",
    "print(f\"Subscribed reports: {subscribed}\")"
   ]
  },
  {
   "cell_type": "code",
   "execution_count": null,
   "id": "1bd71fcc",
   "metadata": {},
   "outputs": [],
   "source": [
    "# Get the last 5 reports\n",
    "report_api.list(limit=5)"
   ]
  },
  {
   "cell_type": "code",
   "execution_count": null,
   "id": "94d0c53e",
   "metadata": {},
   "outputs": [],
   "source": [
    "reports = report_api.list(latest=True)\n",
    "print(f\"Latest report: {reports}\")"
   ]
  },
  {
   "cell_type": "code",
   "execution_count": null,
   "id": "1af95a63",
   "metadata": {},
   "outputs": [],
   "source": [
    "# Get the ID of the most recent report\n",
    "report_info = reports[0] if reports else {}\n",
    "report_id = report_info.get('id')\n",
    "print(report_id)"
   ]
  },
  {
   "cell_type": "code",
   "execution_count": null,
   "id": "02dbb29c",
   "metadata": {},
   "outputs": [],
   "source": [
    "# Download the report with the specified UUID\n",
    "response = api.reports_download(report_id)\n",
    "\n",
    "# Query for reports based on a date range and optional filter criteria\n",
    "response = api.reports_query('2022-01-01', '2022-01-31', report_type='censys')\n",
    "\n",
    "# Get device details for an IP address\n",
    "response = api.reports_device_info('127.0.0.1')\n",
    "\n",
    "# Get the JSON schema for a report type\n",
    "response = api.reports_schema('scan_http')\n",
    "\n",
    "# Get statistics for a report type\n",
    "response = api.reports_stats('scan_ftp', date_range='2022-01-01:2022-01-31')\n",
    "\n",
    "# Get a list of device IP addresses that the user is subscribed to receive reports for\n",
    "response = api.reports_subscribed_devices()"
   ]
  },
  {
   "cell_type": "code",
   "execution_count": null,
   "id": "e15bac71",
   "metadata": {},
   "outputs": [],
   "source": [
    "# Get a list of available reports for the authenticated user\n",
    "reports_list = report_api.list()\n",
    "\n",
    "# Loop through the list and download each report\n",
    "for report_info in reports_list:\n",
    "    print(report_info.get('type'))\n",
    "    report_id = report_info.get('id')\n",
    "    print(report_id)\n",
    "    response = api.reports_download(report_id)\n",
    "    print(response)\n",
    "    # do something with the downloaded report, such as write it to a file\n",
    "    # e.g. with open(report_id + '.json', 'w') as f:\n",
    "    #          f.write(json.dumps(response))"
   ]
  },
  {
   "cell_type": "code",
   "execution_count": null,
   "id": "bec0508d",
   "metadata": {},
   "outputs": [],
   "source": [
    "asn_api = ShadowserverASNAPI(uri=SHADOWSERVER_URI, auth=auth)"
   ]
  },
  {
   "cell_type": "code",
   "execution_count": null,
   "id": "f4bec44d",
   "metadata": {},
   "outputs": [],
   "source": [
    "ssl_api = ShadowserverSSLAPI(uri=SHADOWSERVER_URI, auth=auth)"
   ]
  },
  {
   "cell_type": "code",
   "execution_count": null,
   "id": "1bd58c9c",
   "metadata": {},
   "outputs": [],
   "source": [
    "# Example ASN API usage\n",
    "origin_details = asn_api.origin_query(\"8.8.8.8\")\n",
    "print(f\"Origin details for 8.8.8.8: {origin_details}\")\n",
    "\n",
    "peer_details = asn_api.peer_query(\"8.8.8.8\")\n",
    "print(f\"BGP peers for 8.8.8.8: {peer_details}\")\n",
    "\n",
    "prefixes = asn_api.prefix_query(\"AS15169\")\n",
    "print(f\"Routed prefixes for AS15169: {prefixes}\")\n",
    "\n",
    "asn_details = asn_api.asn_query(\"AS15169\")\n",
    "print(f\"Details for AS15169: {asn_details}\")\n",
    "\n",
    "# Example SSL API usage\n",
    "ssl_details = ssl_api.query(\"google.com\")\n",
    "print(f\"SSL details for google.com: {ssl_details}\")"
   ]
  }
 ],
 "metadata": {
  "kernelspec": {
   "display_name": "Python 3 (ipykernel)",
   "language": "python",
   "name": "python3"
  },
  "language_info": {
   "codemirror_mode": {
    "name": "ipython",
    "version": 3
   },
   "file_extension": ".py",
   "mimetype": "text/x-python",
   "name": "python",
   "nbconvert_exporter": "python",
   "pygments_lexer": "ipython3",
   "version": "3.9.6"
  }
 },
 "nbformat": 4,
 "nbformat_minor": 5
}
